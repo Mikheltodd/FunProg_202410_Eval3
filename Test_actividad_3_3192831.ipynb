{
  "nbformat": 4,
  "nbformat_minor": 0,
  "metadata": {
    "colab": {
      "private_outputs": true,
      "provenance": [],
      "authorship_tag": "ABX9TyM+L/Z8up8B8SXPKJtEQL5Y",
      "include_colab_link": true
    },
    "kernelspec": {
      "name": "python3",
      "display_name": "Python 3"
    },
    "language_info": {
      "name": "python"
    }
  },
  "cells": [
    {
      "cell_type": "markdown",
      "metadata": {
        "id": "view-in-github",
        "colab_type": "text"
      },
      "source": [
        "<a href=\"https://colab.research.google.com/github/Mikheltodd/FunProg_202410_Eval3/blob/main/Test_actividad_3_3192831.ipynb\" target=\"_parent\"><img src=\"https://colab.research.google.com/assets/colab-badge.svg\" alt=\"Open In Colab\"/></a>"
      ]
    },
    {
      "cell_type": "markdown",
      "source": [
        " ## Actividad Evaluativa 3\n",
        "\n",
        " **Fecha:** _20 de marzo de 2024_\n",
        "\n",
        " **Presentado por:** _Miguel Angel Ortiz_\n",
        "\n",
        " **Email:** miguel.ortizp@upb.edu.co"
      ],
      "metadata": {
        "id": "1nFQxvZK70gV"
      }
    },
    {
      "cell_type": "code",
      "execution_count": null,
      "metadata": {
        "id": "-22KeVFD7Eyx"
      },
      "outputs": [],
      "source": [
        "print(\"Programa para el cálculo del factorial\")\n",
        "print(\"-\"*50)\n",
        "n =\tint(input(\"Ingrese un valor entero no negativo: \"))\n",
        "\n",
        "# Validación del número como positivo\n",
        "if n < 0:\n",
        "  print(\"El número ingresado es un número negativo.\")\n",
        "else:\n",
        "  # Defino el resultado por defecto\n",
        "  f = 1\n",
        "  for i in range(1, n+1):\n",
        "    f *=  i\n",
        "  print(f\"\\tEl factorial de {n} es {f}\")"
      ]
    },
    {
      "cell_type": "code",
      "source": [],
      "metadata": {
        "id": "bQb87SN09D5P"
      },
      "execution_count": null,
      "outputs": []
    }
  ]
}